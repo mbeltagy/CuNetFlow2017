{
 "cells": [
  {
   "cell_type": "markdown",
   "metadata": {},
   "source": [
    "# On Search"
   ]
  },
  {
   "cell_type": "code",
   "execution_count": 1,
   "metadata": {
    "collapsed": false
   },
   "outputs": [
    {
     "data": {
      "text/plain": [
       "5-element Array{Array{Int64,1},1}:\n",
       " [2, 3] \n",
       " [3, 4] \n",
       " Int64[]\n",
       " [5, 3] \n",
       " [3, 4] "
      ]
     },
     "execution_count": 1,
     "metadata": {},
     "output_type": "execute_result"
    }
   ],
   "source": [
    "# We store our network in and adjacency list\n",
    "adjL=[[2,3],[3,4],Int[],[5,3],[3,4]]"
   ]
  },
  {
   "cell_type": "code",
   "execution_count": 2,
   "metadata": {
    "collapsed": false
   },
   "outputs": [
    {
     "data": {
      "text/plain": [
       "0-element Array{Any,1}"
      ]
     },
     "execution_count": 2,
     "metadata": {},
     "output_type": "execute_result"
    }
   ],
   "source": [
    "# Beware of the empty []\n",
    "[]\n",
    "# Any is bad for performance"
   ]
  },
  {
   "cell_type": "code",
   "execution_count": 3,
   "metadata": {
    "collapsed": false
   },
   "outputs": [
    {
     "data": {
      "text/plain": [
       "breadthFirstSearch"
      ]
     },
     "execution_count": 3,
     "metadata": {},
     "output_type": "execute_result"
    }
   ],
   "source": [
    "\"\"\"\n",
    "A breadth first search that works on a Adjacency List give a\n",
    "start node. Return the predessor array, the order array, and \n",
    "the marked array\n",
    "\"\"\"\n",
    "function breadthFirstSearch(start_node,AdjL)\n",
    "    # Initialization\n",
    "    n=length(AdjL) # O(1)\n",
    "    pred=zeros(Int,n) # O(n)\n",
    "    order=zeros(Int,n)  # O(n)\n",
    "    marked=zeros(Bool,n)  # O(n)\n",
    "    next=1  # O(1)\n",
    "    order[start_node]=next  # O(1)\n",
    "    marked[start_node]=true  # O(1)\n",
    "    LIST=[start_node]  # O(1)... \n",
    "    # Main search part\n",
    "    while !isempty(LIST)\n",
    "        i=LIST[1]\n",
    "        found,j=find_admissable(i,marked,AdjL)\n",
    "        if found\n",
    "            marked[j]=true\n",
    "            pred[j]=i\n",
    "            next+=1\n",
    "            order[j]=next\n",
    "            push!(LIST,j) # O(1) most of the time...possibly optimization by having the LIST of size n\n",
    "        else\n",
    "            shift!(LIST) # Would be pop! for depth first\n",
    "        end\n",
    "    end\n",
    "    # Returning \n",
    "    pred,order,marked\n",
    "end"
   ]
  },
  {
   "cell_type": "code",
   "execution_count": 4,
   "metadata": {
    "collapsed": false
   },
   "outputs": [
    {
     "data": {
      "text/plain": [
       "find_admissable (generic function with 1 method)"
      ]
     },
     "execution_count": 4,
     "metadata": {},
     "output_type": "execute_result"
    }
   ],
   "source": [
    "function find_admissable(i,marked,AdjL)\n",
    "    for node in AdjL[i]\n",
    "        if !marked[node]\n",
    "            return true, node\n",
    "        end\n",
    "    end\n",
    "    false,0\n",
    "end"
   ]
  },
  {
   "cell_type": "code",
   "execution_count": 5,
   "metadata": {
    "collapsed": false
   },
   "outputs": [
    {
     "data": {
      "text/plain": [
       "(false, 0)"
      ]
     },
     "execution_count": 5,
     "metadata": {},
     "output_type": "execute_result"
    }
   ],
   "source": [
    "# Running some unit tests\n",
    "find_admissable(1,[true,true,true,false,false], adjL)"
   ]
  },
  {
   "cell_type": "code",
   "execution_count": 6,
   "metadata": {
    "collapsed": false
   },
   "outputs": [
    {
     "data": {
      "text/plain": [
       "([0, 1, 1, 2, 4], [1, 2, 3, 4, 5], Bool[true, true, true, true, true])"
      ]
     },
     "execution_count": 6,
     "metadata": {},
     "output_type": "execute_result"
    }
   ],
   "source": [
    "pred, order, marked=breadthFirstSearch(1,adjL)"
   ]
  },
  {
   "cell_type": "markdown",
   "metadata": {},
   "source": [
    "In the lecture we came to the conclusion that find_admissable is performance bottle neck. Watch the lecture videos to understand how this could be improved. "
   ]
  }
 ],
 "metadata": {
  "kernelspec": {
   "display_name": "Julia 0.6.0-rc3",
   "language": "julia",
   "name": "julia-0.6"
  },
  "language_info": {
   "file_extension": ".jl",
   "mimetype": "application/julia",
   "name": "julia",
   "version": "0.6.2"
  }
 },
 "nbformat": 4,
 "nbformat_minor": 1
}
