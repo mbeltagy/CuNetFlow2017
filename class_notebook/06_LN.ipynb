{
 "cells": [
  {
   "cell_type": "markdown",
   "metadata": {},
   "source": [
    "On the shortest path algorithm"
   ]
  },
  {
   "cell_type": "code",
   "execution_count": 1,
   "metadata": {
    "collapsed": false
   },
   "outputs": [],
   "source": [
    "struct Arc\n",
    "    from::Int\n",
    "    to::Int\n",
    "    dist::Int\n",
    "end"
   ]
  },
  {
   "cell_type": "markdown",
   "metadata": {},
   "source": [
    "<img src=\"img/ShortestPathsmallNet.png\">"
   ]
  },
  {
   "cell_type": "code",
   "execution_count": 2,
   "metadata": {
    "collapsed": false
   },
   "outputs": [
    {
     "data": {
      "text/plain": [
       "6-element Array{Array{Arc,1},1}:\n",
       " Arc[Arc(1, 2, 7), Arc(1, 3, 4)]\n",
       " Arc[Arc(2, 4, 8)]              \n",
       " Arc[Arc(3, 2, 2), Arc(3, 5, 2)]\n",
       " Arc[Arc(4, 3, 3), Arc(4, 6, 3)]\n",
       " Arc[Arc(5, 4, 5), Arc(5, 6, 7)]\n",
       " Arc[]                          "
      ]
     },
     "execution_count": 2,
     "metadata": {},
     "output_type": "execute_result"
    }
   ],
   "source": [
    "AdjL=[[Arc(1,2,7),Arc(1,3,4)],\n",
    "    [Arc(2,4,8)],\n",
    "    [Arc(3,2,2),Arc(3,5,2)],\n",
    "    [Arc(4,3,3),Arc(4,6,3)],\n",
    "    [Arc(5,4,5),Arc(5,6,7)],\n",
    "    Arc[]]"
   ]
  },
  {
   "cell_type": "code",
   "execution_count": 3,
   "metadata": {
    "collapsed": false
   },
   "outputs": [
    {
     "data": {
      "text/plain": [
       "dijkstra (generic function with 1 method)"
      ]
     },
     "execution_count": 3,
     "metadata": {},
     "output_type": "execute_result"
    }
   ],
   "source": [
    "# First attempt at shortest path\n",
    "function dijkstra(adjL,source)\n",
    "    # Initialization\n",
    "    n=length(adjL)\n",
    "    dist=zeros(n)\n",
    "    pred=zeros(n)\n",
    "    # Rest goes here ...you can try using the masking idea below\n",
    "end"
   ]
  },
  {
   "cell_type": "code",
   "execution_count": 4,
   "metadata": {
    "collapsed": false
   },
   "outputs": [
    {
     "data": {
      "text/plain": [
       "true"
      ]
     },
     "execution_count": 4,
     "metadata": {},
     "output_type": "execute_result"
    }
   ],
   "source": [
    "d=[5,6,7,0,5,2]\n",
    "mask=zeros(Bool,6)\n",
    "mask[4]=true"
   ]
  },
  {
   "cell_type": "code",
   "execution_count": 5,
   "metadata": {
    "collapsed": false
   },
   "outputs": [
    {
     "data": {
      "text/plain": [
       "6"
      ]
     },
     "execution_count": 5,
     "metadata": {},
     "output_type": "execute_result"
    }
   ],
   "source": [
    "indmin([ mask[i]? 1000: d[i] for i=1:6])"
   ]
  },
  {
   "cell_type": "code",
   "execution_count": 6,
   "metadata": {
    "collapsed": false
   },
   "outputs": [
    {
     "data": {
      "text/plain": [
       "6-element Array{Int64,1}:\n",
       "    5\n",
       "    6\n",
       "    7\n",
       " 1000\n",
       "    5\n",
       "    2"
      ]
     },
     "execution_count": 6,
     "metadata": {},
     "output_type": "execute_result"
    }
   ],
   "source": [
    "[ mask[i]? 1000: d[i] for i=1:6]"
   ]
  },
  {
   "cell_type": "markdown",
   "metadata": {},
   "source": [
    "# On using priority queues"
   ]
  },
  {
   "cell_type": "code",
   "execution_count": 7,
   "metadata": {
    "collapsed": true
   },
   "outputs": [],
   "source": [
    "using DataStructures"
   ]
  },
  {
   "cell_type": "code",
   "execution_count": 8,
   "metadata": {
    "collapsed": false
   },
   "outputs": [
    {
     "data": {
      "text/plain": [
       "4"
      ]
     },
     "execution_count": 8,
     "metadata": {},
     "output_type": "execute_result"
    }
   ],
   "source": [
    "pq=PriorityQueue(zip([1:6...],[5,6,7,0,5,2]))\n",
    "dequeue!(pq)"
   ]
  }
 ],
 "metadata": {
  "kernelspec": {
   "display_name": "Julia 0.6.0-rc3",
   "language": "julia",
   "name": "julia-0.6"
  },
  "language_info": {
   "file_extension": ".jl",
   "mimetype": "application/julia",
   "name": "julia",
   "version": "0.6.2"
  }
 },
 "nbformat": 4,
 "nbformat_minor": 1
}
