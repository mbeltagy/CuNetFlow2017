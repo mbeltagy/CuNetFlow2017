{
 "cells": [
  {
   "cell_type": "markdown",
   "metadata": {},
   "source": [
    "On the shortest path algorithm...continuation"
   ]
  },
  {
   "cell_type": "code",
   "execution_count": 1,
   "metadata": {
    "collapsed": false
   },
   "outputs": [],
   "source": [
    "struct Arc\n",
    "    from::Int\n",
    "    to::Int\n",
    "    dist::Int\n",
    "end"
   ]
  },
  {
   "cell_type": "code",
   "execution_count": 2,
   "metadata": {
    "collapsed": false
   },
   "outputs": [
    {
     "data": {
      "text/plain": [
       "6-element Array{Array{Arc,1},1}:\n",
       " Arc[Arc(1, 2, 7), Arc(1, 3, 4)]\n",
       " Arc[Arc(2, 4, 8)]              \n",
       " Arc[Arc(3, 2, 2), Arc(3, 5, 2)]\n",
       " Arc[Arc(4, 3, 3), Arc(4, 6, 3)]\n",
       " Arc[Arc(5, 4, 5), Arc(5, 6, 7)]\n",
       " Arc[]                          "
      ]
     },
     "execution_count": 2,
     "metadata": {},
     "output_type": "execute_result"
    }
   ],
   "source": [
    "AdjL=[[Arc(1,2,7),Arc(1,3,4)],\n",
    "    [Arc(2,4,8)],\n",
    "    [Arc(3,2,2),Arc(3,5,2)],\n",
    "    [Arc(4,3,3),Arc(4,6,3)],\n",
    "    [Arc(5,4,5),Arc(5,6,7)],\n",
    "    Arc[]]"
   ]
  },
  {
   "cell_type": "markdown",
   "metadata": {},
   "source": [
    "<img src=\"img/bookDijsktra.png\">"
   ]
  },
  {
   "cell_type": "code",
   "execution_count": 3,
   "metadata": {
    "collapsed": false
   },
   "outputs": [
    {
     "data": {
      "text/plain": [
       "dijkstra (generic function with 1 method)"
      ]
     },
     "execution_count": 3,
     "metadata": {},
     "output_type": "execute_result"
    }
   ],
   "source": [
    "# First attempt at shortest path\n",
    "function dijkstra(adjL,source)\n",
    "    # Initialization\n",
    "    n=length(adjL)\n",
    "    d=typemax(Int)*ones(Int,n) # A pooorer implemenation would be ones(n)*Inf\n",
    "    pred=zeros(Int,n)\n",
    "    d[source]=0\n",
    "    S=Int[]\n",
    "    S̄=collect(1:n) # or [1:n...]\n",
    "    pred[source]=0  #Irrelevant \n",
    "    # The main loop\n",
    "    while length(S)<n\n",
    "        i=S̄[indmin(d[S̄])]\n",
    "        push!(S,i)\n",
    "        S̄=setdiff(S̄,[i])\n",
    "        for arc in adjL[i]\n",
    "            j=arc.to\n",
    "            c=arc.dist\n",
    "            if d[j]>d[i]+c\n",
    "                d[j]=d[i]+c\n",
    "                pred[j]=i\n",
    "            end \n",
    "        end\n",
    "    end\n",
    "    pred,d\n",
    "end"
   ]
  },
  {
   "cell_type": "code",
   "execution_count": 4,
   "metadata": {
    "collapsed": false
   },
   "outputs": [
    {
     "data": {
      "text/plain": [
       "([0, 3, 1, 5, 3, 5], [0, 6, 4, 11, 6, 13])"
      ]
     },
     "execution_count": 4,
     "metadata": {},
     "output_type": "execute_result"
    }
   ],
   "source": [
    "pred,d =dijkstra(AdjL,1)"
   ]
  }
 ],
 "metadata": {
  "kernelspec": {
   "display_name": "Julia 0.6.0-rc3",
   "language": "julia",
   "name": "julia-0.6"
  },
  "language_info": {
   "file_extension": ".jl",
   "mimetype": "application/julia",
   "name": "julia",
   "version": "0.6.2"
  }
 },
 "nbformat": 4,
 "nbformat_minor": 1
}
