{
 "cells": [
  {
   "cell_type": "markdown",
   "metadata": {},
   "source": [
    "# Max Flow implementation\n",
    "### Raw data"
   ]
  },
  {
   "cell_type": "code",
   "execution_count": 1,
   "metadata": {
    "collapsed": false
   },
   "outputs": [
    {
     "data": {
      "text/plain": [
       "8×3 Array{Any,2}:\n",
       "  \"s\"  1      5\n",
       "  \"s\"  2      4\n",
       " 1      \" t\"  8\n",
       " 1     3      6\n",
       " 2     1      3\n",
       " 2     3      2\n",
       " 2      \" t\"  4\n",
       " 3      \" t\"  1"
      ]
     },
     "execution_count": 1,
     "metadata": {},
     "output_type": "execute_result"
    }
   ],
   "source": [
    "data=readcsv(\"data/maxflowdata.csv\")"
   ]
  },
  {
   "cell_type": "markdown",
   "metadata": {},
   "source": [
    "Now we need to do a bit of data cleaning. We will:\n",
    "1. Replace \"s\" by 1\n",
    "2. Increment all node numbers\n",
    "3. Replace \"t\" by maximum node number+1"
   ]
  },
  {
   "cell_type": "code",
   "execution_count": 2,
   "metadata": {
    "collapsed": false
   },
   "outputs": [],
   "source": [
    "# Steps 1 and 2..usafe\n",
    "for i=1:size(data,1), j=1:2\n",
    "    if data[i,j]==\"s\"\n",
    "        data[i,j]=1\n",
    "    elseif typeof(data[i,j])<:Number\n",
    "        data[i,j]+=1\n",
    "    end \n",
    "end"
   ]
  },
  {
   "cell_type": "code",
   "execution_count": 3,
   "metadata": {
    "collapsed": false
   },
   "outputs": [
    {
     "data": {
      "text/plain": [
       "8×3 Array{Any,2}:\n",
       " 2  3  5\n",
       " 2  4  4\n",
       " 3  6  8\n",
       " 3  5  6\n",
       " 4  3  3\n",
       " 4  5  2\n",
       " 4  6  4\n",
       " 5  6  1"
      ]
     },
     "execution_count": 3,
     "metadata": {},
     "output_type": "execute_result"
    }
   ],
   "source": [
    "# Safe way\n",
    "n_data=copy(data)\n",
    "max_node_num=0\n",
    "for i=1:size(data,1), j=1:2\n",
    "    if data[i,j]==\"s\"\n",
    "        n_data[i,j]=1\n",
    "    elseif typeof(data[i,j])<:Number\n",
    "        n_data[i,j]+=1\n",
    "        (max_node_num<n_data[i,j]) && (max_node_num=n_data[i,j])\n",
    "    end \n",
    "end\n",
    "max_node_num+=1\n",
    "# Now we do step three\n",
    "for i=1:size(data,1), j=1:2\n",
    "    if data[i,j]==\" t\"\n",
    "        n_data[i,j]=max_node_num\n",
    "    end\n",
    "end\n",
    "n_data"
   ]
  },
  {
   "cell_type": "markdown",
   "metadata": {},
   "source": [
    "Deepcopy vs copy"
   ]
  },
  {
   "cell_type": "code",
   "execution_count": 4,
   "metadata": {
    "collapsed": false
   },
   "outputs": [
    {
     "data": {
      "text/plain": [
       "2-element Array{Array{Int64,1},1}:\n",
       " [1, 2]\n",
       " [3, 4]"
      ]
     },
     "execution_count": 4,
     "metadata": {},
     "output_type": "execute_result"
    }
   ],
   "source": [
    "a=[[1,2],[3,4]]"
   ]
  },
  {
   "cell_type": "code",
   "execution_count": 5,
   "metadata": {
    "collapsed": false
   },
   "outputs": [
    {
     "data": {
      "text/plain": [
       "2-element Array{Array{Int64,1},1}:\n",
       " [1, 2]\n",
       " [3, 4]"
      ]
     },
     "execution_count": 5,
     "metadata": {},
     "output_type": "execute_result"
    }
   ],
   "source": [
    "b=copy(a)"
   ]
  },
  {
   "cell_type": "code",
   "execution_count": 6,
   "metadata": {
    "collapsed": false
   },
   "outputs": [
    {
     "data": {
      "text/plain": [
       "4"
      ]
     },
     "execution_count": 6,
     "metadata": {},
     "output_type": "execute_result"
    }
   ],
   "source": [
    "b[1][2]=4"
   ]
  },
  {
   "cell_type": "code",
   "execution_count": 7,
   "metadata": {
    "collapsed": false
   },
   "outputs": [
    {
     "data": {
      "text/plain": [
       "2-element Array{Array{Int64,1},1}:\n",
       " [1, 4]\n",
       " [3, 4]"
      ]
     },
     "execution_count": 7,
     "metadata": {},
     "output_type": "execute_result"
    }
   ],
   "source": [
    "b"
   ]
  },
  {
   "cell_type": "code",
   "execution_count": 8,
   "metadata": {
    "collapsed": false
   },
   "outputs": [
    {
     "data": {
      "text/plain": [
       "2-element Array{Array{Int64,1},1}:\n",
       " [1, 4]\n",
       " [3, 4]"
      ]
     },
     "execution_count": 8,
     "metadata": {},
     "output_type": "execute_result"
    }
   ],
   "source": [
    "a"
   ]
  },
  {
   "cell_type": "code",
   "execution_count": 9,
   "metadata": {
    "collapsed": false
   },
   "outputs": [
    {
     "data": {
      "text/plain": [
       "2-element Array{Array{Int64,1},1}:\n",
       " [1, 2]\n",
       " [3, 4]"
      ]
     },
     "execution_count": 9,
     "metadata": {},
     "output_type": "execute_result"
    }
   ],
   "source": [
    "a=[[1,2],[3,4]]\n",
    "b=deepcopy(a)\n",
    "b[1][2]=4\n",
    "a"
   ]
  },
  {
   "cell_type": "code",
   "execution_count": 10,
   "metadata": {
    "collapsed": false
   },
   "outputs": [
    {
     "data": {
      "text/plain": [
       "2-element Array{Array{Int64,1},1}:\n",
       " [1, 4]\n",
       " [3, 4]"
      ]
     },
     "execution_count": 10,
     "metadata": {},
     "output_type": "execute_result"
    }
   ],
   "source": [
    "b"
   ]
  },
  {
   "cell_type": "markdown",
   "metadata": {},
   "source": [
    "Creating an arc structure"
   ]
  },
  {
   "cell_type": "code",
   "execution_count": 11,
   "metadata": {
    "collapsed": true
   },
   "outputs": [],
   "source": [
    "type Arc\n",
    "  from::Int\n",
    "  to::Int\n",
    "  capacity::Int\n",
    "  flow::Int\n",
    "end"
   ]
  },
  {
   "cell_type": "code",
   "execution_count": 12,
   "metadata": {
    "collapsed": false
   },
   "outputs": [
    {
     "data": {
      "text/plain": [
       "6-element Array{Array{Arc,1},1}:\n",
       " Arc[]                                                 \n",
       " Arc[Arc(2, 3, 5, 0), Arc(2, 4, 4, 0)]                 \n",
       " Arc[Arc(3, 6, 8, 0), Arc(3, 5, 6, 0)]                 \n",
       " Arc[Arc(4, 3, 3, 0), Arc(4, 5, 2, 0), Arc(4, 6, 4, 0)]\n",
       " Arc[Arc(5, 6, 1, 0)]                                  \n",
       " Arc[]                                                 "
      ]
     },
     "execution_count": 12,
     "metadata": {},
     "output_type": "execute_result"
    }
   ],
   "source": [
    "# lo=Array{Arc,1}[]\n",
    "# for i=1:max_node_num push!(lo,Arc[]) end\n",
    "AdjL=Array{Array{Arc,1}}(max_node_num)\n",
    "for i=1:max_node_num AdjL[i]=Arc[] end\n",
    "for i=1:size(n_data,1)\n",
    "    from, to, cap =n_data[i,1], n_data[i,2],n_data[i,3]\n",
    "    push!(AdjL[from],Arc(from,to,cap,0))\n",
    "end\n",
    "AdjL   "
   ]
  },
  {
   "cell_type": "code",
   "execution_count": 13,
   "metadata": {
    "collapsed": false
   },
   "outputs": [
    {
     "data": {
      "text/plain": [
       "createResNet (generic function with 1 method)"
      ]
     },
     "execution_count": 13,
     "metadata": {},
     "output_type": "execute_result"
    }
   ],
   "source": [
    "function createResNet(AdjL)\n",
    "    resAdjL=deepcopy(AdjL)\n",
    "    for i in eachindex(AdjL)\n",
    "        for arc in AdjL[i]\n",
    "            push!(resAdjL[arc.to],Arc(arc.to,arc.from,0,0))\n",
    "        end\n",
    "    end\n",
    "    resAdjL\n",
    "end"
   ]
  },
  {
   "cell_type": "code",
   "execution_count": 14,
   "metadata": {
    "collapsed": false
   },
   "outputs": [
    {
     "data": {
      "text/plain": [
       "6-element Array{Array{Arc,1},1}:\n",
       " Arc[]                                                                  \n",
       " Arc[Arc(2, 3, 5, 0), Arc(2, 4, 4, 0)]                                  \n",
       " Arc[Arc(3, 6, 8, 0), Arc(3, 5, 6, 0), Arc(3, 2, 0, 0), Arc(3, 4, 0, 0)]\n",
       " Arc[Arc(4, 3, 3, 0), Arc(4, 5, 2, 0), Arc(4, 6, 4, 0), Arc(4, 2, 0, 0)]\n",
       " Arc[Arc(5, 6, 1, 0), Arc(5, 3, 0, 0), Arc(5, 4, 0, 0)]                 \n",
       " Arc[Arc(6, 3, 0, 0), Arc(6, 4, 0, 0), Arc(6, 5, 0, 0)]                 "
      ]
     },
     "execution_count": 14,
     "metadata": {},
     "output_type": "execute_result"
    }
   ],
   "source": [
    "resAdjL=createResNet(AdjL)"
   ]
  },
  {
   "cell_type": "code",
   "execution_count": 15,
   "metadata": {
    "collapsed": false
   },
   "outputs": [
    {
     "data": {
      "text/plain": [
       "depthFirstSearch (generic function with 1 method)"
      ]
     },
     "execution_count": 15,
     "metadata": {},
     "output_type": "execute_result"
    }
   ],
   "source": [
    "function depthFirstSearch(start_node,end_node,AdjL)\n",
    "    # Initialization\n",
    "    n=length(AdjL) # O(1)\n",
    "    pred=zeros(Int,n) # O(n)\n",
    "    order=zeros(Int,n)  # O(n)\n",
    "    marked=zeros(Bool,n)  # O(n)\n",
    "    next=1  # O(1)\n",
    "    order[start_node]=next  # O(1)\n",
    "    marked[start_node]=true  # O(1)\n",
    "    LIST=[start_node]  # O(1)... \n",
    "    # Main search part\n",
    "    while !isempty(LIST)\n",
    "        i=LIST[end]\n",
    "        found,j=find_admissable(i,marked,AdjL)\n",
    "        if found\n",
    "            marked[j]=true\n",
    "            pred[j]=i\n",
    "            next+=1\n",
    "            order[j]=next\n",
    "            push!(LIST,j) # O(1) most of the time...possibly optimization by having the LIST of size n\n",
    "            j==end_node && break\n",
    "        else\n",
    "            pop!(LIST) # Would be pop! for depth first\n",
    "        end\n",
    "    end\n",
    "    # Returning \n",
    "    currentNode=end_node\n",
    "    path=[currentNode]\n",
    "    while currentNode!=start_node\n",
    "        if (currentNode==0)\n",
    "            path=Int[]\n",
    "            break\n",
    "        end\n",
    "        currentNode=pred[currentNode]\n",
    "        unshift!(path,currentNode)\n",
    "    end\n",
    "    path \n",
    "end"
   ]
  },
  {
   "cell_type": "code",
   "execution_count": 16,
   "metadata": {
    "collapsed": false
   },
   "outputs": [
    {
     "data": {
      "text/plain": [
       "find_admissable (generic function with 1 method)"
      ]
     },
     "execution_count": 16,
     "metadata": {},
     "output_type": "execute_result"
    }
   ],
   "source": [
    "function find_admissable(i,marked,AdjL)\n",
    "    for arc in AdjL[i]\n",
    "        if arc.capacity>0 && !marked[arc.to] \n",
    "            return true, arc.to\n",
    "        end\n",
    "    end\n",
    "    false,0\n",
    "end"
   ]
  },
  {
   "cell_type": "code",
   "execution_count": 17,
   "metadata": {
    "collapsed": false
   },
   "outputs": [
    {
     "data": {
      "text/plain": [
       "0-element Array{Int64,1}"
      ]
     },
     "execution_count": 17,
     "metadata": {},
     "output_type": "execute_result"
    }
   ],
   "source": [
    "depthFirstSearch(5,1,resAdjL)"
   ]
  },
  {
   "cell_type": "code",
   "execution_count": null,
   "metadata": {
    "collapsed": true
   },
   "outputs": [],
   "source": []
  }
 ],
 "metadata": {
  "kernelspec": {
   "display_name": "Julia 0.6.0-rc3",
   "language": "julia",
   "name": "julia-0.6"
  },
  "language_info": {
   "file_extension": ".jl",
   "mimetype": "application/julia",
   "name": "julia",
   "version": "0.6.2"
  }
 },
 "nbformat": 4,
 "nbformat_minor": 1
}
