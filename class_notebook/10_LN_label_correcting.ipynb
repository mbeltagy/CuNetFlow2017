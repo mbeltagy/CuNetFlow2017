{
 "cells": [
  {
   "cell_type": "markdown",
   "metadata": {
    "collapsed": true
   },
   "source": [
    "# Min cost \n",
    "We start with label correcting shortest path to find negative cycles"
   ]
  },
  {
   "cell_type": "code",
   "execution_count": 29,
   "metadata": {
    "collapsed": false
   },
   "outputs": [],
   "source": [
    "immutable Arc\n",
    "    from::Int\n",
    "    to::Int\n",
    "    cost::Int\n",
    "end"
   ]
  },
  {
   "cell_type": "code",
   "execution_count": 30,
   "metadata": {
    "collapsed": false
   },
   "outputs": [
    {
     "data": {
      "text/plain": [
       "5-element Array{Array{Arc,1},1}:\n",
       " Arc[Arc(1, 2, 2), Arc(1, 5, 5)] \n",
       " Arc[Arc(2, 3, 7), Arc(2, 4, 2)] \n",
       " Arc[Arc(3, 4, -5)]              \n",
       " Arc[]                           \n",
       " Arc[Arc(5, 2, -4), Arc(5, 4, 1)]"
      ]
     },
     "execution_count": 30,
     "metadata": {},
     "output_type": "execute_result"
    }
   ],
   "source": [
    "adjL=[[Arc(1,2,2),Arc(1,5,5)],\n",
    "    [Arc(2,3,7),Arc(2,4,2)],\n",
    "    [Arc(3,4,-5)],\n",
    "    Arc[],\n",
    "    [Arc(5,2,-4),Arc(5,4,1)]\n",
    "]"
   ]
  },
  {
   "cell_type": "code",
   "execution_count": 31,
   "metadata": {
    "collapsed": false
   },
   "outputs": [],
   "source": [
    "# Some experiments with views \n",
    "d=[0, 5, 10000, 1, 10000]\n",
    "S̄=[2,3,4,5]\n",
    "S̄[indmin(d[S̄])]\n",
    "#@time d[S̄]\n",
    "#@time view(d,S̄)\n",
    "d=rand(1:1000,10000)\n",
    "inds=randperm(10000)[1:1000];"
   ]
  },
  {
   "cell_type": "code",
   "execution_count": 32,
   "metadata": {
    "collapsed": false
   },
   "outputs": [
    {
     "name": "stdout",
     "output_type": "stream",
     "text": [
      "  0.000013 seconds (6 allocations: 8.109 KiB)\n"
     ]
    }
   ],
   "source": [
    "@time d[inds];"
   ]
  },
  {
   "cell_type": "code",
   "execution_count": 33,
   "metadata": {
    "collapsed": false
   },
   "outputs": [
    {
     "name": "stdout",
     "output_type": "stream",
     "text": [
      "  0.000015 seconds (12 allocations: 320 bytes)\n"
     ]
    }
   ],
   "source": [
    "@time view(d,inds);"
   ]
  },
  {
   "cell_type": "code",
   "execution_count": 35,
   "metadata": {
    "collapsed": false
   },
   "outputs": [
    {
     "data": {
      "text/plain": [
       "simpleShortestPath (generic function with 1 method)"
      ]
     },
     "execution_count": 35,
     "metadata": {},
     "output_type": "execute_result"
    }
   ],
   "source": [
    "# A very bad Djesktra \n",
    "function simpleShortestPath(s,adjL)\n",
    "    n=length(adjL) #O(1)\n",
    "    pred=zeros(Int,n)  #O(n)\n",
    "    S=Int[]    # O(1)\n",
    "    S̄=[1:n...]  #O(n)\n",
    "    d=ones(Int,n)*typemax(Int) # Some big number  O(n)\n",
    "    d[s]=0 #(O(1))\n",
    "    while length(S)<n   # The loop will repeat n times\n",
    "        i=S̄[indmin(view(d,S̄))] #O(n)\n",
    "        push!(S,i) #O(1)\n",
    "        deleteat!(S̄,findfirst(S̄.==i)) #If S is an array or list, this is O(n)\n",
    "        for arc in adjL[i]\n",
    "            j=arc.to\n",
    "            new_d=d[i]+arc.cost\n",
    "            if d[j]>new_d\n",
    "                d[j]=new_d\n",
    "                pred[j]=i\n",
    "            end\n",
    "        end\n",
    "    end\n",
    "    pred, d\n",
    "end"
   ]
  },
  {
   "cell_type": "code",
   "execution_count": 36,
   "metadata": {
    "collapsed": false
   },
   "outputs": [
    {
     "name": "stdout",
     "output_type": "stream",
     "text": [
      "  0.548350 seconds (241.09 k allocations: 12.434 MiB, 1.02% gc time)\n"
     ]
    },
    {
     "data": {
      "text/plain": [
       "([0, 5, 2, 2, 1], [0, 1, 9, 4, 5])"
      ]
     },
     "execution_count": 36,
     "metadata": {},
     "output_type": "execute_result"
    }
   ],
   "source": [
    "@time simpleShortestPath(1,adjL)"
   ]
  },
  {
   "cell_type": "code",
   "execution_count": 6,
   "metadata": {
    "collapsed": false
   },
   "outputs": [
    {
     "data": {
      "text/plain": [
       "lcsp (generic function with 1 method)"
      ]
     },
     "execution_count": 6,
     "metadata": {},
     "output_type": "execute_result"
    }
   ],
   "source": [
    "function lcsp(s,adjL) # label correcting shortest path \n",
    "    n=length(adjL) #O(1)\n",
    "    pred=zeros(Int,n)  #O(n)\n",
    "    LIST=[s]\n",
    "    d=ones(Int,n)*typemax(Int) # Some big number  O(n)\n",
    "    d[s]=0 #(O(1))\n",
    "    while !isempty(LIST)\n",
    "        i=pop!(LIST) # Shift would have also worked\n",
    "        for arc in adjL[i]\n",
    "            j=arc.to\n",
    "            new_d=d[i]+arc.cost\n",
    "            if d[j]>new_d\n",
    "                d[j]=new_d\n",
    "                pred[j]=i\n",
    "                push!(LIST,j)\n",
    "            end\n",
    "        end\n",
    "    end\n",
    "    pred, d\n",
    "end"
   ]
  },
  {
   "cell_type": "code",
   "execution_count": 7,
   "metadata": {
    "collapsed": false
   },
   "outputs": [
    {
     "data": {
      "text/plain": [
       "([0,5,2,2,1],[0,1,8,3,5])"
      ]
     },
     "execution_count": 7,
     "metadata": {},
     "output_type": "execute_result"
    }
   ],
   "source": [
    "lcsp(1,adjL)"
   ]
  },
  {
   "cell_type": "markdown",
   "metadata": {},
   "source": [
    "Dijsktra did not give us the right answer here, hte lcsp did!"
   ]
  },
  {
   "cell_type": "markdown",
   "metadata": {},
   "source": [
    "Now we write the FIFO version of LCSP"
   ]
  },
  {
   "cell_type": "code",
   "execution_count": 41,
   "metadata": {
    "collapsed": false
   },
   "outputs": [
    {
     "data": {
      "text/html": [
       "1"
      ],
      "text/plain": [
       "1"
      ]
     },
     "execution_count": 41,
     "metadata": {},
     "output_type": "execute_result"
    }
   ],
   "source": [
    "L=[1]\n",
    "push!(L,2)\n",
    "shift!(L)"
   ]
  },
  {
   "cell_type": "code",
   "execution_count": 42,
   "metadata": {
    "collapsed": false
   },
   "outputs": [
    {
     "data": {
      "text/html": [
       "1"
      ],
      "text/plain": [
       "1"
      ]
     },
     "execution_count": 42,
     "metadata": {},
     "output_type": "execute_result"
    }
   ],
   "source": [
    "L=[1]\n",
    "unshift!(L,2)\n",
    "pop!(L)"
   ]
  },
  {
   "cell_type": "code",
   "execution_count": 43,
   "metadata": {
    "collapsed": false
   },
   "outputs": [
    {
     "data": {
      "text/plain": [
       "lcspFIFO (generic function with 1 method)"
      ]
     },
     "execution_count": 43,
     "metadata": {},
     "output_type": "execute_result"
    }
   ],
   "source": [
    "function lcspFIFO(s,adjL) # label correcting shortest path \n",
    "    n=length(adjL) #O(1)\n",
    "    pred=zeros(Int,n)  #O(n)\n",
    "    LIST=[s]\n",
    "    d=ones(Int,n)*typemax(Int) # Some big number  O(n)\n",
    "    d[s]=0 #(O(1))\n",
    "    while !isempty(LIST)\n",
    "        i=shift!(LIST) # shift here to be FIFO\n",
    "        for arc in adjL[i]\n",
    "            j=arc.to\n",
    "            new_d=d[i]+arc.cost\n",
    "            if d[j]>new_d\n",
    "                d[j]=new_d\n",
    "                pred[j]=i\n",
    "                push!(LIST,j)\n",
    "            end\n",
    "        end\n",
    "    end\n",
    "    pred, d\n",
    "end"
   ]
  },
  {
   "cell_type": "code",
   "execution_count": 44,
   "metadata": {
    "collapsed": false
   },
   "outputs": [
    {
     "data": {
      "text/plain": [
       "([0, 5, 2, 2, 1], [0, 1, 8, 3, 5])"
      ]
     },
     "execution_count": 44,
     "metadata": {},
     "output_type": "execute_result"
    }
   ],
   "source": [
    "lcspFIFO(1,adjL)"
   ]
  },
  {
   "cell_type": "markdown",
   "metadata": {},
   "source": [
    "We make a slight modification to have a -ve cycle"
   ]
  },
  {
   "cell_type": "code",
   "execution_count": 45,
   "metadata": {
    "collapsed": false
   },
   "outputs": [
    {
     "data": {
      "text/plain": [
       "5-element Array{Array{Arc,1},1}:\n",
       " Arc[Arc(1, 2, 2), Arc(1, 5, 5)] \n",
       " Arc[Arc(2, 3, 7)]               \n",
       " Arc[Arc(3, 4, -5)]              \n",
       " Arc[Arc(4, 2, -3)]              \n",
       " Arc[Arc(5, 2, -4), Arc(5, 4, 1)]"
      ]
     },
     "execution_count": 45,
     "metadata": {},
     "output_type": "execute_result"
    }
   ],
   "source": [
    "adjL=[[Arc(1,2,2),Arc(1,5,5)],\n",
    "    [Arc(2,3,7)],\n",
    "    [Arc(3,4,-5)],\n",
    "    [Arc(4,2,-3)],\n",
    "    [Arc(5,2,-4),Arc(5,4,1)]\n",
    "]"
   ]
  },
  {
   "cell_type": "code",
   "execution_count": 16,
   "metadata": {
    "collapsed": false
   },
   "outputs": [
    {
     "data": {
      "text/plain": [
       "negativeCycleDetect (generic function with 1 method)"
      ]
     },
     "execution_count": 16,
     "metadata": {},
     "output_type": "execute_result"
    }
   ],
   "source": [
    "function negativeCycleDetect(s,adjL) # label correcting shortest path \n",
    "    n=length(adjL) #O(1)\n",
    "    pred=zeros(Int,n)  #O(n)\n",
    "    LIST=[s]\n",
    "    d=ones(Int,n)*typemax(Int) # Some big number  O(n)\n",
    "    d[s]=0 #(O(1))\n",
    "    p_counter=zeros(Int,n)\n",
    "    cycle=Int[]\n",
    "    key_node=0\n",
    "    while !isempty(LIST)\n",
    "        i=shift!(LIST) # shift here to be FIFO\n",
    "        for arc in adjL[i]\n",
    "            j=arc.to\n",
    "            new_d=d[i]+arc.cost\n",
    "            if d[j]>new_d\n",
    "                d[j]=new_d\n",
    "                pred[j]=i\n",
    "                push!(LIST,j)\n",
    "                p_counter[j]+=1\n",
    "                if p_counter[j]>=n-1 \n",
    "                    key_node=j\n",
    "                    break\n",
    "                end\n",
    "            end\n",
    "        end\n",
    "        (key_node>0) && break\n",
    "    end\n",
    "    pred, d, key_node\n",
    "end"
   ]
  },
  {
   "cell_type": "code",
   "execution_count": 18,
   "metadata": {
    "collapsed": false
   },
   "outputs": [
    {
     "data": {
      "text/plain": [
       "([0,4,2,3,1],[0,0,7,2,5],4)"
      ]
     },
     "execution_count": 18,
     "metadata": {},
     "output_type": "execute_result"
    }
   ],
   "source": [
    "pred,d,key_node=negativeCycleDetect(1,adjL)"
   ]
  },
  {
   "cell_type": "code",
   "execution_count": 20,
   "metadata": {
    "collapsed": false
   },
   "outputs": [
    {
     "data": {
      "text/plain": [
       "4-element Array{Int64,1}:\n",
       " 4\n",
       " 2\n",
       " 3\n",
       " 4"
      ]
     },
     "execution_count": 20,
     "metadata": {},
     "output_type": "execute_result"
    }
   ],
   "source": [
    "cycle=[key_node]\n",
    "j=pred[key_node]\n",
    "while j!=key_node\n",
    "    unshift!(cycle,j)\n",
    "    j=pred[j]\n",
    "end\n",
    "unshift!(cycle,key_node) #You dod't really have to do it\n",
    "cycle"
   ]
  },
  {
   "cell_type": "code",
   "execution_count": 22,
   "metadata": {
    "collapsed": false
   },
   "outputs": [
    {
     "data": {
      "text/plain": [
       "3-element Array{Arc,1}:\n",
       " Arc(4,2,-3)\n",
       " Arc(2,3,7) \n",
       " Arc(3,4,-5)"
      ]
     },
     "execution_count": 22,
     "metadata": {},
     "output_type": "execute_result"
    }
   ],
   "source": [
    "# We now want to get the cycle as a list of arcs\n",
    "cycle_as_arcs=Arc[]\n",
    "for i=1:length(cycle)-1\n",
    "    from=cycle[i]\n",
    "    to=cycle[i+1]\n",
    "    for arc in adjL[from]\n",
    "        if arc.to==to \n",
    "            push!(cycle_as_arcs,arc) #For min-cost I might just need the capacities not the full arcs\n",
    "        end\n",
    "    end\n",
    "end\n",
    "cycle_as_arcs"
   ]
  },
  {
   "cell_type": "code",
   "execution_count": null,
   "metadata": {
    "collapsed": true
   },
   "outputs": [],
   "source": []
  }
 ],
 "metadata": {
  "kernelspec": {
   "display_name": "Julia 0.6.0-rc3",
   "language": "julia",
   "name": "julia-0.6"
  },
  "language_info": {
   "file_extension": ".jl",
   "mimetype": "application/julia",
   "name": "julia",
   "version": "0.6.2"
  }
 },
 "nbformat": 4,
 "nbformat_minor": 1
}
